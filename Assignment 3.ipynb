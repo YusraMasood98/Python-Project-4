# -*- coding: utf-8 -*-
"""
Created on Sun Oct 22 13:07:07 2023

@author: CC
"""
import pandas as pd
from sklearn.model_selection import train_test_split
from sklearn.preprocessing import StandardScaler


# Load the data

data = pd.read_csv('C:/Users/CC/Downloads/4 - Artificial Neural Networks (ANN)/bullet_train.csv')
df = pd.DataFrame(data)

# Define features (X) and target (y)
X = data.iloc[:, 3:]  
# Exclude the "Survived" column
y = data['Survived']

# Split the data into training and testing sets
X_train, X_test, y_train, y_test = train_test_split(X, y, test_size=0.3, random_state=42)

# Standardize features (important for neural networks)
scaler = StandardScaler()
X = scaler.fit_transform(X)


import tensorflow as tf
from tensorflow import keras

# Build the ANN model
model = keras.Sequential([
    keras.layers.Dense(units=32, activation='sigmoid', input_shape=(X_train.shape[1],)),
    keras.layers.Dense(units=16, activation='sigmoid'),
    keras.layers.Dense(units=1, activation='sigmoid')
])


# Compile the model
model.compile(optimizer='adam', loss='binary_crossentropy', metrics=['accuracy'])

# Train the model
model.fit(X_train, y_train, epochs=100000, batch_size=32, validation_data=(X_test, y_test))

# Evaluate the model
train_accuracy = model.evaluate(X_train, y_train)[1]
test_accuracy = model.evaluate(X_test, y_test)[1]

